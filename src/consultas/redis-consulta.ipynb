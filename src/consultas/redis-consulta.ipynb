{
 "cells": [
  {
   "cell_type": "markdown",
   "metadata": {},
   "source": [
    "# Consulta Redis"
   ]
  },
  {
   "cell_type": "markdown",
   "metadata": {},
   "source": [
    "## Importações"
   ]
  },
  {
   "cell_type": "code",
   "execution_count": 1,
   "metadata": {},
   "outputs": [],
   "source": [
    "import redis\n",
    "import json"
   ]
  },
  {
   "cell_type": "markdown",
   "metadata": {},
   "source": [
    "## Conectando com o banco de dados"
   ]
  },
  {
   "cell_type": "code",
   "execution_count": 2,
   "metadata": {},
   "outputs": [],
   "source": [
    "r = redis.Redis(host='localhost', port=6379, decode_responses=True)"
   ]
  },
  {
   "cell_type": "markdown",
   "metadata": {},
   "source": [
    "## Funções de print"
   ]
  },
  {
   "cell_type": "code",
   "execution_count": 3,
   "metadata": {},
   "outputs": [],
   "source": [
    "def format_anime_name(anime_name):\n",
    "    anime_max_size = 17\n",
    "    if len(anime_name) > anime_max_size:\n",
    "        anime_name = anime_name[:anime_max_size-3] + '...'\n",
    "    \n",
    "    return f'{anime_name:^17}'\n",
    "\n",
    "def anime_list_to_str(anime_list):\n",
    "    anime_max_size = 17\n",
    "    anime_titles = ''\n",
    "    num_it = max(len(anime_list[0][\"name\"]), len(anime_list[1][\"name\"]), len(anime_list[2][\"name\"])) // anime_max_size + 1\n",
    "\n",
    "    for i in range(num_it):\n",
    "        init = i * anime_max_size\n",
    "        final = (i + 1) * anime_max_size\n",
    "        anime_titles += f'{anime_list[0][\"name\"][init:final]:^17}                   {anime_list[1][\"name\"][init:final]:^17}                   {anime_list[2][\"name\"][init:final]:^17}\\n    '\n",
    "\n",
    "    return f'''\n",
    "    -----------------                   -----------------                   -----------------   \n",
    "    I               I                   I               I                   I               I        \n",
    "    I               I                   I               I                   I               I\n",
    "    I      IMG      I                   I      IMG      I                   I      IMG      I\n",
    "    I               I                   I               I                   I               I\n",
    "    I               I                   I               I                   I               I\n",
    "    -----------------                   -----------------                   -----------------\n",
    "    {anime_titles}\n",
    "'''"
   ]
  },
  {
   "cell_type": "markdown",
   "metadata": {},
   "source": [
    "## Realizando consulta"
   ]
  },
  {
   "cell_type": "code",
   "execution_count": 4,
   "metadata": {},
   "outputs": [],
   "source": [
    "user_id = 1"
   ]
  },
  {
   "cell_type": "code",
   "execution_count": 5,
   "metadata": {},
   "outputs": [
    {
     "name": "stdout",
     "output_type": "stream",
     "text": [
      "{\n",
      "    \"completed\": 233,\n",
      "    \"days watched\": 142.3,\n",
      "    \"dropped\": 93,\n",
      "    \"gender\": \"Male\",\n",
      "    \"location\": \"California\",\n",
      "    \"recomendations\": [\n",
      "        {\n",
      "            \"id\": 5114,\n",
      "            \"img\": \"img-path\",\n",
      "            \"name\": \"Fullmetal Alchemist: Brotherhood\"\n",
      "        },\n",
      "        {\n",
      "            \"id\": 9253,\n",
      "            \"img\": \"img-path\",\n",
      "            \"name\": \"Steins;Gate\"\n",
      "        },\n",
      "        {\n",
      "            \"id\": 2904,\n",
      "            \"img\": \"img-path\",\n",
      "            \"name\": \"Code Geass: Hangyaku no Lelouch R2\"\n",
      "        }\n",
      "    ],\n",
      "    \"username\": \"Xinil\",\n",
      "    \"watched animes\": [\n",
      "        {\n",
      "            \"id\": 3588,\n",
      "            \"img\": \"img-path\",\n",
      "            \"name\": \"Soul Eater\"\n",
      "        },\n",
      "        {\n",
      "            \"id\": 41487,\n",
      "            \"img\": \"img-path\",\n",
      "            \"name\": \"Tensei shitara Slime Datta Ken 2nd Season Part 2\"\n",
      "        },\n",
      "        {\n",
      "            \"id\": 41488,\n",
      "            \"img\": \"img-path\",\n",
      "            \"name\": \"Tensura Nikki: Tensei shitara Slime Datta Ken\"\n",
      "        }\n",
      "    ]\n",
      "}\n"
     ]
    }
   ],
   "source": [
    "user = json.loads(r.hgetall(f'users:{user_id}')['documento'])\n",
    "print(json.dumps(user, sort_keys=True, indent=4))\n",
    "\n",
    "gender = ''\n",
    "if user['gender']:\n",
    "    if user['gender'] == 'Male':\n",
    "        gender = ' - Masculino'\n",
    "    else:\n",
    "        gender = ' - Feminino'\n",
    "\n",
    "location = ''\n",
    "if user['location']:\n",
    "    location = f' - {user[\"location\"]}'"
   ]
  },
  {
   "cell_type": "code",
   "execution_count": 8,
   "metadata": {},
   "outputs": [
    {
     "name": "stdout",
     "output_type": "stream",
     "text": [
      "\n",
      "Xinil - Masculino - California\n",
      "Dias assistidos: 142.3\n",
      "Total de animes assistidos: 233\n",
      "Total de animes desistidos: 93\n",
      "\n",
      "Assista novamente:\n",
      "\n",
      "    -----------------                   -----------------                   -----------------   \n",
      "    I               I                   I               I                   I               I        \n",
      "    I               I                   I               I                   I               I\n",
      "    I      IMG      I                   I      IMG      I                   I      IMG      I\n",
      "    I               I                   I               I                   I               I\n",
      "    I               I                   I               I                   I               I\n",
      "    -----------------                   -----------------                   -----------------\n",
      "       Soul Eater                       Tensei shitara Sl                   Tensura Nikki: Te\n",
      "                                        ime Datta Ken 2nd                   nsei shitara Slim\n",
      "                                          Season Part 2                        e Datta Ken   \n",
      "    \n",
      "\n",
      "Recomendados para você:\n",
      "\n",
      "    -----------------                   -----------------                   -----------------   \n",
      "    I               I                   I               I                   I               I        \n",
      "    I               I                   I               I                   I               I\n",
      "    I      IMG      I                   I      IMG      I                   I      IMG      I\n",
      "    I               I                   I               I                   I               I\n",
      "    I               I                   I               I                   I               I\n",
      "    -----------------                   -----------------                   -----------------\n",
      "    Fullmetal Alchemi                      Steins;Gate                      Code Geass: Hangy\n",
      "     st: Brotherhood                                                        aku no Lelouch R2\n",
      "                                                                                             \n",
      "    \n",
      "\n",
      "\n"
     ]
    }
   ],
   "source": [
    "print(f'''\n",
    "{user[\"username\"]}{gender}{location}\n",
    "Dias assistidos: {user[\"days watched\"]}\n",
    "Total de animes assistidos: {user[\"completed\"]}\n",
    "Total de animes desistidos: {user[\"dropped\"]}\n",
    "\n",
    "Continue assistindo:\n",
    "{anime_list_to_str(user[\"watched animes\"])}\n",
    "Recomendados para você:\n",
    "{anime_list_to_str(user[\"recomendations\"])}\n",
    "''')"
   ]
  }
 ],
 "metadata": {
  "kernelspec": {
   "display_name": "PMD",
   "language": "python",
   "name": "python3"
  },
  "language_info": {
   "codemirror_mode": {
    "name": "ipython",
    "version": 3
   },
   "file_extension": ".py",
   "mimetype": "text/x-python",
   "name": "python",
   "nbconvert_exporter": "python",
   "pygments_lexer": "ipython3",
   "version": "3.8.17"
  },
  "orig_nbformat": 4
 },
 "nbformat": 4,
 "nbformat_minor": 2
}
