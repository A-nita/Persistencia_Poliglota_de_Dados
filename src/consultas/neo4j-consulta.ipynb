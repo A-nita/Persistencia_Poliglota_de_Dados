{
 "cells": [
  {
   "cell_type": "markdown",
   "metadata": {},
   "source": [
    "# Consulta de recomendações a partir do neo4j"
   ]
  },
  {
   "cell_type": "markdown",
   "metadata": {},
   "source": [
    "## Instalação biblioteca"
   ]
  },
  {
   "cell_type": "code",
   "execution_count": 1,
   "metadata": {},
   "outputs": [
    {
     "name": "stdout",
     "output_type": "stream",
     "text": [
      "Requirement already satisfied: py2neo in c:\\users\\gregf\\anaconda3\\envs\\pmd\\lib\\site-packages (2021.2.3)\n",
      "Requirement already satisfied: certifi in c:\\users\\gregf\\anaconda3\\envs\\pmd\\lib\\site-packages (from py2neo) (2023.7.22)\n",
      "Requirement already satisfied: interchange~=2021.0.4 in c:\\users\\gregf\\anaconda3\\envs\\pmd\\lib\\site-packages (from py2neo) (2021.0.4)\n",
      "Requirement already satisfied: monotonic in c:\\users\\gregf\\anaconda3\\envs\\pmd\\lib\\site-packages (from py2neo) (1.6)\n",
      "Requirement already satisfied: packaging in c:\\users\\gregf\\anaconda3\\envs\\pmd\\lib\\site-packages (from py2neo) (23.1)\n",
      "Requirement already satisfied: pansi>=2020.7.3 in c:\\users\\gregf\\anaconda3\\envs\\pmd\\lib\\site-packages (from py2neo) (2020.7.3)\n",
      "Requirement already satisfied: pygments>=2.0.0 in c:\\users\\gregf\\anaconda3\\envs\\pmd\\lib\\site-packages (from py2neo) (2.15.1)\n",
      "Requirement already satisfied: six>=1.15.0 in c:\\users\\gregf\\anaconda3\\envs\\pmd\\lib\\site-packages (from py2neo) (1.16.0)\n",
      "Requirement already satisfied: urllib3 in c:\\users\\gregf\\anaconda3\\envs\\pmd\\lib\\site-packages (from py2neo) (2.0.4)\n",
      "Requirement already satisfied: pytz in c:\\users\\gregf\\anaconda3\\envs\\pmd\\lib\\site-packages (from interchange~=2021.0.4->py2neo) (2022.7)\n",
      "Note: you may need to restart the kernel to use updated packages.\n",
      "Requirement already satisfied: tqdm in c:\\users\\gregf\\anaconda3\\envs\\pmd\\lib\\site-packages (4.66.1)\n",
      "Requirement already satisfied: colorama in c:\\users\\gregf\\appdata\\roaming\\python\\python38\\site-packages (from tqdm) (0.4.3)\n",
      "Note: you may need to restart the kernel to use updated packages.\n"
     ]
    }
   ],
   "source": [
    "%pip install py2neo\n",
    "%pip install tqdm"
   ]
  },
  {
   "cell_type": "markdown",
   "metadata": {},
   "source": [
    "## Importação biblioteca"
   ]
  },
  {
   "cell_type": "code",
   "execution_count": 2,
   "metadata": {},
   "outputs": [],
   "source": [
    "from py2neo import Graph\n",
    "from tqdm import tqdm"
   ]
  },
  {
   "cell_type": "markdown",
   "metadata": {},
   "source": [
    "## Conectando ao neo4j"
   ]
  },
  {
   "cell_type": "code",
   "execution_count": 4,
   "metadata": {},
   "outputs": [],
   "source": [
    "graph = Graph(\"bolt://localhost:7687\", auth=(\"neo4j\", \"password\"))"
   ]
  },
  {
   "cell_type": "markdown",
   "metadata": {},
   "source": [
    "## Salvando as similaridades de animes"
   ]
  },
  {
   "cell_type": "markdown",
   "metadata": {},
   "source": [
    "Só rodar a célula de código a seguir caso as similaridades não tenham sido salvas"
   ]
  },
  {
   "cell_type": "code",
   "execution_count": 4,
   "metadata": {},
   "outputs": [],
   "source": [
    "#resultados = graph.run(\n",
    "#'''\n",
    "#MATCH \n",
    "#(anime: Anime)\n",
    "#CALL {\n",
    "#    WITH anime\n",
    "#    MATCH\n",
    "#    (anime) <-[anime1Rating:Rating]- (usersWhoLiked: User) -[usersRatings:Rating]-> (otherAnimes: Anime)\n",
    "#    RETURN anime AS src_anime, otherAnimes AS target_anime, count(*) as gosteis\n",
    "#    ORDER BY gosteis DESC\n",
    "#    LIMIT 3\n",
    "#}\n",
    "#WITH src_anime, target_anime, gosteis\n",
    "#CREATE\n",
    "#(src_anime) -[:Similar {gosteis: gosteis}]-> (target_anime)\n",
    "#'''\n",
    "#)\n",
    "#resultados"
   ]
  },
  {
   "cell_type": "markdown",
   "metadata": {},
   "source": [
    "## Execução da consulta"
   ]
  },
  {
   "cell_type": "code",
   "execution_count": 5,
   "metadata": {},
   "outputs": [
    {
     "data": {
      "text/html": [
       "<table><tr><th>target_user</th><th>recomended_anime_id</th><th>recomended_anime_name</th><th>gosteis</th></tr><tr><td style=\"text-align:right\">148</td><td style=\"text-align:right\">1735</td><td style=\"text-align:left\">Naruto: Shippuuden</td><td style=\"text-align:right\">11652</td></tr><tr><td style=\"text-align:right\">148</td><td style=\"text-align:right\">1535</td><td style=\"text-align:left\">Death Note</td><td style=\"text-align:right\">10146</td></tr><tr><td style=\"text-align:right\">148</td><td style=\"text-align:right\">5114</td><td style=\"text-align:left\">Fullmetal Alchemist: Brotherhood</td><td style=\"text-align:right\">9902</td></tr></table>"
      ],
      "text/plain": [
       " target_user | recomended_anime_id | recomended_anime_name            | gosteis \n",
       "-------------|---------------------|----------------------------------|---------\n",
       "         148 |                1735 | Naruto: Shippuuden               |   11652 \n",
       "         148 |                1535 | Death Note                       |   10146 \n",
       "         148 |                5114 | Fullmetal Alchemist: Brotherhood |    9902 "
      ]
     },
     "execution_count": 5,
     "metadata": {},
     "output_type": "execute_result"
    }
   ],
   "source": [
    "resultados = graph.run(\n",
    "'''\n",
    "MATCH (user: User)\n",
    "CALL {\n",
    "    WITH user\n",
    "    MATCH (user) -[user2Ratings:Rating]-> (likedUser2Animes: Anime) -[similarities:Similar]-> (similarAnimes:Anime)\n",
    "    RETURN similarAnimes.anime_id AS recomended_anime_id, similarAnimes.name AS recomended_anime_name, SUM(similarities.gosteis) AS gosteis\n",
    "    ORDER BY gosteis DESC\n",
    "    LIMIT 3\n",
    "}\n",
    "RETURN user.user_id AS target_user, recomended_anime_id, recomended_anime_name, gosteis\n",
    "'''\n",
    ")\n",
    "resultados"
   ]
  },
  {
   "cell_type": "code",
   "execution_count": 6,
   "metadata": {},
   "outputs": [
    {
     "name": "stdout",
     "output_type": "stream",
     "text": [
      "[{'target_user': 148, 'recomended_anime_id': 1735, 'recomended_anime_name': 'Naruto: Shippuuden', 'gosteis': 11652}, {'target_user': 148, 'recomended_anime_id': 1535, 'recomended_anime_name': 'Death Note', 'gosteis': 10146}, {'target_user': 148, 'recomended_anime_id': 5114, 'recomended_anime_name': 'Fullmetal Alchemist: Brotherhood', 'gosteis': 9902}, {'target_user': 463, 'recomended_anime_id': 5114, 'recomended_anime_name': 'Fullmetal Alchemist: Brotherhood', 'gosteis': 46936}, {'target_user': 463, 'recomended_anime_id': 2904, 'recomended_anime_name': 'Code Geass: Hangyaku no Lelouch R2', 'gosteis': 28233}]\n"
     ]
    }
   ],
   "source": [
    "resultados_list = resultados.data()\n",
    "\n",
    "print(resultados_list[:5])"
   ]
  },
  {
   "cell_type": "code",
   "execution_count": 8,
   "metadata": {},
   "outputs": [
    {
     "name": "stdout",
     "output_type": "stream",
     "text": [
      "887217\n"
     ]
    }
   ],
   "source": [
    "qnt_recs = len(resultados_list)\n",
    "print(qnt_recs)"
   ]
  },
  {
   "cell_type": "code",
   "execution_count": 11,
   "metadata": {},
   "outputs": [
    {
     "name": "stderr",
     "output_type": "stream",
     "text": [
      "100%|██████████| 887217/887217 [00:01<00:00, 462500.16it/s]"
     ]
    },
    {
     "name": "stdout",
     "output_type": "stream",
     "text": [
      "295739\n"
     ]
    },
    {
     "name": "stderr",
     "output_type": "stream",
     "text": [
      "\n"
     ]
    }
   ],
   "source": [
    "recomendations = {}\n",
    "\n",
    "for rec in tqdm(resultados_list, total=qnt_recs):\n",
    "    if rec['target_user'] not in recomendations:\n",
    "        recomendations[rec['target_user']] = []\n",
    "        \n",
    "    recomendations[rec['target_user']].append({\n",
    "        'recomended_anime_id': rec['recomended_anime_id'],\n",
    "        'recomended_anime_name': rec['recomended_anime_name']\n",
    "    })\n",
    "\n",
    "print(recomendations[148])"
   ]
  }
 ],
 "metadata": {
  "kernelspec": {
   "display_name": "PMD",
   "language": "python",
   "name": "python3"
  },
  "language_info": {
   "codemirror_mode": {
    "name": "ipython",
    "version": 3
   },
   "file_extension": ".py",
   "mimetype": "text/x-python",
   "name": "python",
   "nbconvert_exporter": "python",
   "pygments_lexer": "ipython3",
   "version": "3.8.17"
  },
  "orig_nbformat": 4
 },
 "nbformat": 4,
 "nbformat_minor": 2
}
