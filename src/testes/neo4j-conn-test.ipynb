{
 "cells": [
  {
   "cell_type": "markdown",
   "metadata": {},
   "source": [
    "# Neo4j"
   ]
  },
  {
   "cell_type": "markdown",
   "metadata": {},
   "source": [
    "Este notebook verifica o funcionamento do Neo4J no projeto. Nesse notebook é feito a conexão, escrita e leitura no banco de dados Neo4j.\n",
    "\n",
    "Antes de executar esse notebook, é necessário ter instalado o [docker](https://www.docker.com/) e o [docker-compose](https://docs.docker.com/compose/).\n",
    "\n",
    "Com eles instalados, é necessário rodar o comando `docker-compose up` na pasta principal do projeto para colocar o servidor Neo4j no ar. Com isso feito, é esperado que esse notebook seja executado sem problemas.\n",
    "\n",
    "Esse notebook foi criado baseado nas seguintes referências:\n",
    "\n",
    "- [Documentação instalação Neo4j em Python](https://neo4j.com/developer/python/): tutorial utilização do Neo4j na linguagem python\n",
    "\n",
    "- [Documentação biblioteca py2neo](https://py2neo.org/2021.1/)\n",
    "\n",
    "- [Neo4j docker image](https://hub.docker.com/_/neo4j): imagem do Neo4j para docker"
   ]
  },
  {
   "cell_type": "markdown",
   "metadata": {},
   "source": [
    "## Instalando bibliotecas necessárias"
   ]
  },
  {
   "cell_type": "code",
   "execution_count": 4,
   "metadata": {},
   "outputs": [
    {
     "name": "stdout",
     "output_type": "stream",
     "text": [
      "Collecting py2neoNote: you may need to restart the kernel to use updated packages.\n",
      "\n",
      "  Downloading py2neo-2021.2.3-py2.py3-none-any.whl (177 kB)\n",
      "     ------------------------------------ 177.0/177.0 kB 761.5 kB/s eta 0:00:00\n",
      "Collecting certifi (from py2neo)\n",
      "  Obtaining dependency information for certifi from https://files.pythonhosted.org/packages/4c/dd/2234eab22353ffc7d94e8d13177aaa050113286e93e7b40eae01fbf7c3d9/certifi-2023.7.22-py3-none-any.whl.metadata\n",
      "  Downloading certifi-2023.7.22-py3-none-any.whl.metadata (2.2 kB)\n",
      "Collecting interchange~=2021.0.4 (from py2neo)\n",
      "  Downloading interchange-2021.0.4-py2.py3-none-any.whl (28 kB)\n",
      "Collecting monotonic (from py2neo)\n",
      "  Downloading monotonic-1.6-py2.py3-none-any.whl (8.2 kB)\n",
      "Requirement already satisfied: packaging in c:\\users\\gregf\\anaconda3\\envs\\pmd\\lib\\site-packages (from py2neo) (23.1)\n",
      "Collecting pansi>=2020.7.3 (from py2neo)\n",
      "  Downloading pansi-2020.7.3-py2.py3-none-any.whl (10 kB)\n",
      "Requirement already satisfied: pygments>=2.0.0 in c:\\users\\gregf\\anaconda3\\envs\\pmd\\lib\\site-packages (from py2neo) (2.15.1)\n",
      "Requirement already satisfied: six>=1.15.0 in c:\\users\\gregf\\anaconda3\\envs\\pmd\\lib\\site-packages (from py2neo) (1.16.0)\n",
      "Collecting urllib3 (from py2neo)\n",
      "  Obtaining dependency information for urllib3 from https://files.pythonhosted.org/packages/9b/81/62fd61001fa4b9d0df6e31d47ff49cfa9de4af03adecf339c7bc30656b37/urllib3-2.0.4-py3-none-any.whl.metadata\n",
      "  Downloading urllib3-2.0.4-py3-none-any.whl.metadata (6.6 kB)\n",
      "Requirement already satisfied: pytz in c:\\users\\gregf\\anaconda3\\envs\\pmd\\lib\\site-packages (from interchange~=2021.0.4->py2neo) (2023.3)\n",
      "Downloading certifi-2023.7.22-py3-none-any.whl (158 kB)\n",
      "   ---------------------------------------- 158.3/158.3 kB 1.6 MB/s eta 0:00:00\n",
      "Downloading urllib3-2.0.4-py3-none-any.whl (123 kB)\n",
      "   ---------------------------------------- 123.9/123.9 kB 2.4 MB/s eta 0:00:00\n",
      "Installing collected packages: monotonic, urllib3, pansi, interchange, certifi, py2neo\n",
      "Successfully installed certifi-2023.7.22 interchange-2021.0.4 monotonic-1.6 pansi-2020.7.3 py2neo-2021.2.3 urllib3-2.0.4\n"
     ]
    }
   ],
   "source": [
    "%pip install py2neo"
   ]
  },
  {
   "cell_type": "markdown",
   "metadata": {},
   "source": [
    "## Importando bibliotecas necessárias"
   ]
  },
  {
   "cell_type": "code",
   "execution_count": 5,
   "metadata": {},
   "outputs": [],
   "source": [
    "from py2neo import Graph"
   ]
  },
  {
   "cell_type": "markdown",
   "metadata": {},
   "source": [
    "## Conectando ao Neo4J"
   ]
  },
  {
   "cell_type": "code",
   "execution_count": 7,
   "metadata": {},
   "outputs": [],
   "source": [
    "graph = Graph(\"bolt://localhost:7687\", auth=(\"neo4j\", \"password\"))"
   ]
  },
  {
   "cell_type": "markdown",
   "metadata": {},
   "source": [
    "## Fazendo operação de escrita"
   ]
  },
  {
   "cell_type": "code",
   "execution_count": 11,
   "metadata": {},
   "outputs": [
    {
     "data": {
      "text/html": [
       "<table><tr><th>anita</th></tr><tr><td style=\"text-align:left\">(_0:Pessoa {name: &#039;Anita&#039;})</td></tr></table>"
      ],
      "text/plain": [
       " anita                       \n",
       "-----------------------------\n",
       " (_0:Pessoa {name: 'Anita'}) "
      ]
     },
     "execution_count": 11,
     "metadata": {},
     "output_type": "execute_result"
    }
   ],
   "source": [
    "graph.run(\n",
    "'''\n",
    "CREATE (anita:Pessoa {name: 'Anita'})\n",
    "RETURN anita\n",
    "'''\n",
    ")"
   ]
  },
  {
   "cell_type": "markdown",
   "metadata": {},
   "source": [
    "## Fazendo operação de leitura"
   ]
  },
  {
   "cell_type": "code",
   "execution_count": 12,
   "metadata": {},
   "outputs": [
    {
     "data": {
      "text/html": [
       "<table><tr><th>anita</th></tr><tr><td style=\"text-align:left\">(_0:Pessoa {name: &#039;Anita&#039;})</td></tr></table>"
      ],
      "text/plain": [
       " anita                       \n",
       "-----------------------------\n",
       " (_0:Pessoa {name: 'Anita'}) "
      ]
     },
     "execution_count": 12,
     "metadata": {},
     "output_type": "execute_result"
    }
   ],
   "source": [
    "graph.run(\n",
    "'''\n",
    "MATCH (anita)\n",
    "RETURN anita\n",
    "'''\n",
    ")"
   ]
  }
 ],
 "metadata": {
  "kernelspec": {
   "display_name": "PMD",
   "language": "python",
   "name": "python3"
  },
  "language_info": {
   "codemirror_mode": {
    "name": "ipython",
    "version": 3
   },
   "file_extension": ".py",
   "mimetype": "text/x-python",
   "name": "python",
   "nbconvert_exporter": "python",
   "pygments_lexer": "ipython3",
   "version": "3.8.17"
  },
  "orig_nbformat": 4
 },
 "nbformat": 4,
 "nbformat_minor": 2
}
