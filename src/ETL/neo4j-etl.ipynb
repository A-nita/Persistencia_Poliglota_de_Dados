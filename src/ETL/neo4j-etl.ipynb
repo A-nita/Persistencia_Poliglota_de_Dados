{
 "cells": [
  {
   "cell_type": "markdown",
   "metadata": {},
   "source": [
    "# ETL para o banco de dados Neo4j"
   ]
  },
  {
   "cell_type": "markdown",
   "metadata": {},
   "source": [
    "## Importações"
   ]
  },
  {
   "cell_type": "code",
   "execution_count": 1,
   "metadata": {},
   "outputs": [],
   "source": [
    "import os\n",
    "import sys\n",
    "\n",
    "from pyspark.sql import SparkSession"
   ]
  },
  {
   "cell_type": "markdown",
   "metadata": {},
   "source": [
    "## Constantes"
   ]
  },
  {
   "cell_type": "code",
   "execution_count": 2,
   "metadata": {},
   "outputs": [],
   "source": [
    "DATASET_PATH = '../../dataset'\n",
    "\n",
    "USER_FILTERED_PATH = os.path.join(DATASET_PATH, 'user-filtered.csv')"
   ]
  },
  {
   "cell_type": "markdown",
   "metadata": {},
   "source": [
    "## Código para resolver um problema de versão encontrada pelo PySpark"
   ]
  },
  {
   "cell_type": "markdown",
   "metadata": {},
   "source": [
    "A resolução do erro foi encontrada em uma resposta no [StackOverflow](https://stackoverflow.com/a/65010346)"
   ]
  },
  {
   "cell_type": "code",
   "execution_count": 3,
   "metadata": {},
   "outputs": [],
   "source": [
    "os.environ['PYSPARK_PYTHON'] = sys.executable\n",
    "os.environ['PYSPARK_DRIVER_PYTHON'] = sys.executable"
   ]
  },
  {
   "cell_type": "markdown",
   "metadata": {},
   "source": [
    "## Configurando inicialização do \"conector\" Neo4j spark"
   ]
  },
  {
   "cell_type": "code",
   "execution_count": 4,
   "metadata": {},
   "outputs": [],
   "source": [
    "spark = SparkSession.\\\n",
    "        builder.\\\n",
    "        config(\"spark.jars\", \"../../spark-neo4j/neo4j-connector-apache-spark_2.12-5.0.1_for_spark_3.jar\").\\\n",
    "        getOrCreate()"
   ]
  },
  {
   "cell_type": "markdown",
   "metadata": {},
   "source": [
    "## Lendo o arquivo user-filtered.csv"
   ]
  },
  {
   "cell_type": "code",
   "execution_count": 5,
   "metadata": {},
   "outputs": [],
   "source": [
    "df_user_filtred = spark.read.csv(USER_FILTERED_PATH, inferSchema=True, header=True, escape='\"', multiLine=True)"
   ]
  },
  {
   "cell_type": "code",
   "execution_count": 6,
   "metadata": {},
   "outputs": [
    {
     "name": "stdout",
     "output_type": "stream",
     "text": [
      "+-------+--------+------+\n",
      "|user_id|anime_id|rating|\n",
      "+-------+--------+------+\n",
      "|      0|      67|     9|\n",
      "|      0|    6702|     7|\n",
      "|      0|     242|    10|\n",
      "|      0|    4898|     0|\n",
      "|      0|      21|    10|\n",
      "|      0|      24|     9|\n",
      "|      0|    2104|     0|\n",
      "|      0|    4722|     8|\n",
      "|      0|    6098|     6|\n",
      "|      0|    3125|     9|\n",
      "|      0|     481|    10|\n",
      "|      0|      68|     6|\n",
      "|      0|    1689|     6|\n",
      "|      0|    2913|     6|\n",
      "|      0|    1250|     7|\n",
      "|      0|     356|     9|\n",
      "|      0|     121|     9|\n",
      "|      0|     430|     9|\n",
      "|      0|    1829|     7|\n",
      "|      0|    1571|    10|\n",
      "+-------+--------+------+\n",
      "only showing top 20 rows\n",
      "\n"
     ]
    }
   ],
   "source": [
    "df_user_filtred.show()"
   ]
  },
  {
   "cell_type": "markdown",
   "metadata": {},
   "source": [
    "## Salvando os dados no banco de dados"
   ]
  },
  {
   "cell_type": "markdown",
   "metadata": {},
   "source": [
    "### Salvando os nós de usuários"
   ]
  },
  {
   "cell_type": "code",
   "execution_count": 7,
   "metadata": {},
   "outputs": [
    {
     "name": "stdout",
     "output_type": "stream",
     "text": [
      "+-------+\n",
      "|user_id|\n",
      "+-------+\n",
      "|    148|\n",
      "|    463|\n",
      "|    471|\n",
      "|    496|\n",
      "|    833|\n",
      "|   1088|\n",
      "|   1342|\n",
      "|   1580|\n",
      "|   1591|\n",
      "|   1645|\n",
      "|   1829|\n",
      "|   1959|\n",
      "|   2122|\n",
      "|   2142|\n",
      "|   2366|\n",
      "|   2659|\n",
      "|   2866|\n",
      "|   3175|\n",
      "|   3749|\n",
      "|   3794|\n",
      "+-------+\n",
      "only showing top 20 rows\n",
      "\n"
     ]
    },
    {
     "data": {
      "text/plain": [
       "None"
      ]
     },
     "metadata": {},
     "output_type": "display_data"
    }
   ],
   "source": [
    "display(df_user_filtred.select('user_id').distinct().show())"
   ]
  },
  {
   "cell_type": "code",
   "execution_count": 8,
   "metadata": {},
   "outputs": [],
   "source": [
    "df_user_filtred.select('user_id').distinct().write \\\n",
    "  .format(\"org.neo4j.spark.DataSource\") \\\n",
    "  .mode(\"Append\") \\\n",
    "  .option(\"url\", \"bolt://localhost:7687\") \\\n",
    "  .option(\"labels\", \":User\") \\\n",
    "  .save()"
   ]
  },
  {
   "cell_type": "markdown",
   "metadata": {},
   "source": [
    "### Salvando os nós de animes"
   ]
  },
  {
   "cell_type": "code",
   "execution_count": 9,
   "metadata": {},
   "outputs": [
    {
     "name": "stdout",
     "output_type": "stream",
     "text": [
      "+--------+\n",
      "|anime_id|\n",
      "+--------+\n",
      "|    1829|\n",
      "|    3918|\n",
      "|    5300|\n",
      "|    6336|\n",
      "|    8086|\n",
      "|   30654|\n",
      "|    2142|\n",
      "|   36525|\n",
      "|   17389|\n",
      "|   22097|\n",
      "|   38422|\n",
      "|     496|\n",
      "|   36538|\n",
      "|   25517|\n",
      "|    1088|\n",
      "|     463|\n",
      "|    9465|\n",
      "|   30903|\n",
      "|   11033|\n",
      "|   37307|\n",
      "+--------+\n",
      "only showing top 20 rows\n",
      "\n"
     ]
    },
    {
     "data": {
      "text/plain": [
       "None"
      ]
     },
     "metadata": {},
     "output_type": "display_data"
    }
   ],
   "source": [
    "display(df_user_filtred.select('anime_id').distinct().show())"
   ]
  },
  {
   "cell_type": "code",
   "execution_count": 10,
   "metadata": {},
   "outputs": [],
   "source": [
    "df_user_filtred.select('anime_id').distinct().write \\\n",
    "  .format(\"org.neo4j.spark.DataSource\") \\\n",
    "  .mode(\"Append\") \\\n",
    "  .option(\"url\", \"bolt://localhost:7687\") \\\n",
    "  .option(\"labels\", \":Anime\") \\\n",
    "  .save()"
   ]
  },
  {
   "cell_type": "markdown",
   "metadata": {},
   "source": [
    "### Salvando as relações entre usuários e animes"
   ]
  },
  {
   "cell_type": "code",
   "execution_count": null,
   "metadata": {},
   "outputs": [],
   "source": [
    "df_user_filtred.write.format(\"org.neo4j.spark.DataSource\")\\\n",
    "        .mode(\"Overwrite\")\\\n",
    "        .option(\"url\", \"neo4j://localhost:7687\")\\\n",
    "        .option(\"relationship\", \"Rating\")\\\n",
    "        .option(\"relationship.save.strategy\", \"keys\")\\\n",
    "        .option(\"relationship.source.labels\", \":User\")\\\n",
    "        .option(\"relationship.source.save.mode\", \"overwrite\")\\\n",
    "        .option(\"relationship.source.node.keys\", \"user_id:user_id\")\\\n",
    "        .option(\"relationship.target.labels\", \":Anime\")\\\n",
    "        .option(\"relationship.target.save.mode\", \"overwrite\")\\\n",
    "        .option(\"relationship.target.node.keys\", \"anime_id:anime_id\")\\\n",
    "        .option(\"relationship.properties\", \"rating\")\\\n",
    "        .save()"
   ]
  }
 ],
 "metadata": {
  "kernelspec": {
   "display_name": "PMD",
   "language": "python",
   "name": "python3"
  },
  "language_info": {
   "codemirror_mode": {
    "name": "ipython",
    "version": 3
   },
   "file_extension": ".py",
   "mimetype": "text/x-python",
   "name": "python",
   "nbconvert_exporter": "python",
   "pygments_lexer": "ipython3",
   "version": "3.8.17"
  },
  "orig_nbformat": 4
 },
 "nbformat": 4,
 "nbformat_minor": 2
}
