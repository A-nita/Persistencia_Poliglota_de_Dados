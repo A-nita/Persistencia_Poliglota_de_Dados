{
 "cells": [
  {
   "cell_type": "markdown",
   "metadata": {},
   "source": [
    "# ETL para o banco de dados Neo4j"
   ]
  },
  {
   "cell_type": "code",
   "execution_count": 1,
   "metadata": {},
   "outputs": [
    {
     "name": "stdout",
     "output_type": "stream",
     "text": [
      "Requirement already satisfied: tqdm in c:\\users\\gregf\\anaconda3\\envs\\pmd\\lib\\site-packages (4.66.1)\n",
      "Requirement already satisfied: colorama in c:\\users\\gregf\\appdata\\roaming\\python\\python38\\site-packages (from tqdm) (0.4.3)\n",
      "Note: you may need to restart the kernel to use updated packages.\n"
     ]
    }
   ],
   "source": [
    "%pip install tqdm"
   ]
  },
  {
   "cell_type": "markdown",
   "metadata": {},
   "source": [
    "## Importações"
   ]
  },
  {
   "cell_type": "code",
   "execution_count": 2,
   "metadata": {},
   "outputs": [],
   "source": [
    "import os\n",
    "import sys\n",
    "from tqdm import tqdm\n",
    "\n",
    "import pandas as pd\n",
    "\n",
    "from pyspark.sql import SparkSession"
   ]
  },
  {
   "cell_type": "markdown",
   "metadata": {},
   "source": [
    "## Constantes"
   ]
  },
  {
   "cell_type": "code",
   "execution_count": 3,
   "metadata": {},
   "outputs": [],
   "source": [
    "DATASET_PATH = '../../dataset'\n",
    "\n",
    "USER_FILTERED_PATH = os.path.join(DATASET_PATH, 'user-filtered.csv')"
   ]
  },
  {
   "cell_type": "markdown",
   "metadata": {},
   "source": [
    "## Código para resolver um problema de versão encontrada pelo PySpark"
   ]
  },
  {
   "cell_type": "markdown",
   "metadata": {},
   "source": [
    "A resolução do erro foi encontrada em uma resposta no [StackOverflow](https://stackoverflow.com/a/65010346)"
   ]
  },
  {
   "cell_type": "code",
   "execution_count": 4,
   "metadata": {},
   "outputs": [],
   "source": [
    "os.environ['PYSPARK_PYTHON'] = sys.executable\n",
    "os.environ['PYSPARK_DRIVER_PYTHON'] = sys.executable"
   ]
  },
  {
   "cell_type": "markdown",
   "metadata": {},
   "source": [
    "## Configurando inicialização do \"conector\" Neo4j spark"
   ]
  },
  {
   "cell_type": "code",
   "execution_count": 5,
   "metadata": {},
   "outputs": [],
   "source": [
    "spark = SparkSession.\\\n",
    "        builder.\\\n",
    "        config(\"spark.jars\", \"../../spark-neo4j/neo4j-connector-apache-spark_2.12-5.0.1_for_spark_3.jar\").\\\n",
    "        getOrCreate()"
   ]
  },
  {
   "cell_type": "markdown",
   "metadata": {},
   "source": [
    "## Lendo o arquivo user-filtered.csv"
   ]
  },
  {
   "cell_type": "code",
   "execution_count": 6,
   "metadata": {},
   "outputs": [],
   "source": [
    "df_user_filtred = spark.read.csv(USER_FILTERED_PATH, inferSchema=True, header=True, escape='\"', multiLine=True)"
   ]
  },
  {
   "cell_type": "code",
   "execution_count": 7,
   "metadata": {},
   "outputs": [
    {
     "name": "stdout",
     "output_type": "stream",
     "text": [
      "+-------+--------+------+\n",
      "|user_id|anime_id|rating|\n",
      "+-------+--------+------+\n",
      "|      0|      67|     9|\n",
      "|      0|    6702|     7|\n",
      "|      0|     242|    10|\n",
      "|      0|    4898|     0|\n",
      "|      0|      21|    10|\n",
      "|      0|      24|     9|\n",
      "|      0|    2104|     0|\n",
      "|      0|    4722|     8|\n",
      "|      0|    6098|     6|\n",
      "|      0|    3125|     9|\n",
      "|      0|     481|    10|\n",
      "|      0|      68|     6|\n",
      "|      0|    1689|     6|\n",
      "|      0|    2913|     6|\n",
      "|      0|    1250|     7|\n",
      "|      0|     356|     9|\n",
      "|      0|     121|     9|\n",
      "|      0|     430|     9|\n",
      "|      0|    1829|     7|\n",
      "|      0|    1571|    10|\n",
      "+-------+--------+------+\n",
      "only showing top 20 rows\n",
      "\n"
     ]
    }
   ],
   "source": [
    "df_user_filtred.show()"
   ]
  },
  {
   "cell_type": "markdown",
   "metadata": {},
   "source": [
    "## Filtrando a base de dados"
   ]
  },
  {
   "cell_type": "markdown",
   "metadata": {},
   "source": [
    "Para tentar resolver isso, filtramos a base de dados, removendo todas as avaliações abaixo de 8. Como definimos o limiar para 8, os resultados das consultas continuarão iguais. Porém, seria ideal armazenar todas as relações, pois caso esse limiar seja modificado para algum valor inferior, seria necessário adicionar no banco de dados as interações com as notas inferiores. Caso todas as relações fossem armazenadas, bastaria modificar a filtragem para considerar esse novo valor de limiar. Além disso, caso o sistema de recomendações fosse modificado, para usar tanto as avaliações negativas como negativas para gerar recomendações, seria necessário ter todas as avaliações no banco de dados."
   ]
  },
  {
   "cell_type": "code",
   "execution_count": 8,
   "metadata": {},
   "outputs": [
    {
     "name": "stdout",
     "output_type": "stream",
     "text": [
      "+-------+--------+------+\n",
      "|user_id|anime_id|rating|\n",
      "+-------+--------+------+\n",
      "|      0|      67|     9|\n",
      "|      0|     242|    10|\n",
      "|      0|      21|    10|\n",
      "|      0|      24|     9|\n",
      "|      0|    4722|     8|\n",
      "|      0|    3125|     9|\n",
      "|      0|     481|    10|\n",
      "|      0|     356|     9|\n",
      "|      0|     121|     9|\n",
      "|      0|     430|     9|\n",
      "|      0|    1571|    10|\n",
      "|      0|     578|    10|\n",
      "|      0|     431|     8|\n",
      "|      0|    2762|     9|\n",
      "|      0|    3418|     9|\n",
      "|      0|    2034|     8|\n",
      "|      0|     164|     8|\n",
      "|      0|     459|     9|\n",
      "|      0|     419|     8|\n",
      "|      0|     199|     8|\n",
      "+-------+--------+------+\n",
      "only showing top 20 rows\n",
      "\n"
     ]
    },
    {
     "data": {
      "text/plain": [
       "None"
      ]
     },
     "metadata": {},
     "output_type": "display_data"
    },
    {
     "data": {
      "text/plain": [
       "32802476"
      ]
     },
     "execution_count": 8,
     "metadata": {},
     "output_type": "execute_result"
    }
   ],
   "source": [
    "df_user_filtred = df_user_filtred.filter(df_user_filtred.rating >= 8)\n",
    "display(df_user_filtred.show())\n",
    "df_user_filtred.count()"
   ]
  },
  {
   "cell_type": "code",
   "execution_count": null,
   "metadata": {},
   "outputs": [],
   "source": [
    "df_user_filtred = df_user_filtred.limit(1000000)"
   ]
  },
  {
   "cell_type": "markdown",
   "metadata": {},
   "source": [
    "## Salvando os dados no banco de dados"
   ]
  },
  {
   "cell_type": "markdown",
   "metadata": {},
   "source": [
    "### Salvando os nós de usuários"
   ]
  },
  {
   "cell_type": "code",
   "execution_count": 9,
   "metadata": {},
   "outputs": [
    {
     "name": "stdout",
     "output_type": "stream",
     "text": [
      "+-------+\n",
      "|user_id|\n",
      "+-------+\n",
      "|    148|\n",
      "|    463|\n",
      "|    496|\n",
      "|    833|\n",
      "|   1088|\n",
      "|   1342|\n",
      "|   1580|\n",
      "|   1591|\n",
      "|   1645|\n",
      "|   1959|\n",
      "|   2122|\n",
      "|   2142|\n",
      "|   2366|\n",
      "|   2659|\n",
      "|   2866|\n",
      "|   3175|\n",
      "|   3749|\n",
      "|   3794|\n",
      "|   3997|\n",
      "|   4101|\n",
      "+-------+\n",
      "only showing top 20 rows\n",
      "\n"
     ]
    },
    {
     "data": {
      "text/plain": [
       "None"
      ]
     },
     "metadata": {},
     "output_type": "display_data"
    }
   ],
   "source": [
    "display(df_user_filtred.select('user_id').distinct().show())"
   ]
  },
  {
   "cell_type": "code",
   "execution_count": 10,
   "metadata": {},
   "outputs": [],
   "source": [
    "df_user_filtred.select('user_id').distinct().write \\\n",
    "  .format(\"org.neo4j.spark.DataSource\") \\\n",
    "  .mode(\"Append\") \\\n",
    "  .option(\"url\", \"bolt://localhost:7687\") \\\n",
    "  .option(\"labels\", \":User\") \\\n",
    "  .save()"
   ]
  },
  {
   "cell_type": "markdown",
   "metadata": {},
   "source": [
    "### Salvando os nós de animes"
   ]
  },
  {
   "cell_type": "code",
   "execution_count": 11,
   "metadata": {},
   "outputs": [
    {
     "name": "stdout",
     "output_type": "stream",
     "text": [
      "+--------+\n",
      "|anime_id|\n",
      "+--------+\n",
      "|    5300|\n",
      "|   30654|\n",
      "|   38422|\n",
      "|     496|\n",
      "|    8086|\n",
      "|    1088|\n",
      "|    6336|\n",
      "|     463|\n",
      "|    2142|\n",
      "|    9465|\n",
      "|    3918|\n",
      "|   25517|\n",
      "|   17389|\n",
      "|   40515|\n",
      "|    1829|\n",
      "|   22097|\n",
      "|   33569|\n",
      "|    1591|\n",
      "|     148|\n",
      "|   36538|\n",
      "+--------+\n",
      "only showing top 20 rows\n",
      "\n"
     ]
    },
    {
     "data": {
      "text/plain": [
       "None"
      ]
     },
     "metadata": {},
     "output_type": "display_data"
    }
   ],
   "source": [
    "display(df_user_filtred.select('anime_id').distinct().show())"
   ]
  },
  {
   "cell_type": "code",
   "execution_count": 12,
   "metadata": {},
   "outputs": [],
   "source": [
    "df_user_filtred.select('anime_id').distinct().write \\\n",
    "  .format(\"org.neo4j.spark.DataSource\") \\\n",
    "  .mode(\"Append\") \\\n",
    "  .option(\"url\", \"bolt://localhost:7687\") \\\n",
    "  .option(\"labels\", \":Anime\") \\\n",
    "  .save()"
   ]
  },
  {
   "cell_type": "markdown",
   "metadata": {},
   "source": [
    "### Salvando as relações entre usuários e animes"
   ]
  },
  {
   "cell_type": "code",
   "execution_count": 14,
   "metadata": {},
   "outputs": [],
   "source": [
    "df_user_filtred.write.format(\"org.neo4j.spark.DataSource\")\\\n",
    "    .mode(\"Append\")\\\n",
    "    .option(\"url\", \"neo4j://localhost:7687\")\\\n",
    "    .option(\"relationship\", \"Rating\")\\\n",
    "    .option(\"relationship.save.strategy\", \"keys\")\\\n",
    "    .option(\"relationship.source.labels\", \":User\")\\\n",
    "    .option(\"relationship.source.save.mode\", \"overwrite\")\\\n",
    "    .option(\"relationship.source.node.keys\", \"user_id:user_id\")\\\n",
    "    .option(\"relationship.target.labels\", \":Anime\")\\\n",
    "    .option(\"relationship.target.save.mode\", \"overwrite\")\\\n",
    "    .option(\"relationship.target.node.keys\", \"anime_id:anime_id\")\\\n",
    "    .option(\"relationship.properties\", \"rating\")\\\n",
    "    .save()"
   ]
  }
 ],
 "metadata": {
  "kernelspec": {
   "display_name": "PMD",
   "language": "python",
   "name": "python3"
  },
  "language_info": {
   "codemirror_mode": {
    "name": "ipython",
    "version": 3
   },
   "file_extension": ".py",
   "mimetype": "text/x-python",
   "name": "python",
   "nbconvert_exporter": "python",
   "pygments_lexer": "ipython3",
   "version": "3.8.17"
  },
  "orig_nbformat": 4
 },
 "nbformat": 4,
 "nbformat_minor": 2
}
