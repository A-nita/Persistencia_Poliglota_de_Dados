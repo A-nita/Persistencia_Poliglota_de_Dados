{
 "cells": [
  {
   "cell_type": "code",
   "execution_count": 2,
   "metadata": {},
   "outputs": [],
   "source": [
    "import os\n",
    "import sys"
   ]
  },
  {
   "cell_type": "code",
   "execution_count": 3,
   "metadata": {},
   "outputs": [],
   "source": [
    "os.environ['PYSPARK_PYTHON'] = sys.executable\n",
    "os.environ['PYSPARK_DRIVER_PYTHON'] = sys.executable"
   ]
  },
  {
   "cell_type": "code",
   "execution_count": 26,
   "metadata": {},
   "outputs": [],
   "source": [
    "from pyspark.sql import SparkSession\n",
    "from pyspark.sql.functions import col\n",
    "\n",
    "# Inicializar a sessão Spark\n",
    "spark = SparkSession.builder.appName(\"CustomGroupBy\").getOrCreate()\n",
    "\n",
    "# Carregar o DataFrame original\n",
    "data = [\n",
    "    (1, 1, 'Naruto'), \n",
    "    (1, 2, 'Anime2'), \n",
    "    (1, 3, 'Anime3'), \n",
    "    (1, 4, 'One Piece')\n",
    "]\n",
    "columns = [\"user_id\", \"anime_id\", \"name\"]\n",
    "df = spark.createDataFrame(data, columns)\n"
   ]
  },
  {
   "cell_type": "code",
   "execution_count": 30,
   "metadata": {},
   "outputs": [
    {
     "name": "stdout",
     "output_type": "stream",
     "text": [
      "[Row(user_id=1, min_udf(anime_id, name)=[Row(id=2, name='Anime2', img='img-path'), Row(id=3, name='Anime3', img='img-path'), Row(id=4, name='One Piece', img='img-path')])]\n"
     ]
    }
   ],
   "source": [
    "from pyspark.sql.functions import pandas_udf, PandasUDFType\n",
    "from pyspark.sql.types import *\n",
    "\n",
    "\n",
    "@pandas_udf(ArrayType(\n",
    "                StructType([\n",
    "                    StructField('id', IntegerType()),\n",
    "                    StructField('name', StringType()),\n",
    "                    StructField('img', StringType())\n",
    "])), PandasUDFType.GROUPED_AGG)  \n",
    "def min_udf(anime_ids, anime_names):\n",
    "    last_animes = []\n",
    "    for anime_id, anime_name in zip(anime_ids[-3:], anime_names[-3:]):\n",
    "        last_animes.append({\n",
    "            'id': anime_id,\n",
    "            'name': anime_name,\n",
    "            'img': 'img-path'\n",
    "        })\n",
    "    return last_animes\n",
    "\n",
    "result = df.groupby('user_id').agg(min_udf(df.anime_id, df.name)).collect()\n",
    "\n",
    "print(result)\n",
    "\n"
   ]
  }
 ],
 "metadata": {
  "kernelspec": {
   "display_name": "PMD",
   "language": "python",
   "name": "python3"
  },
  "language_info": {
   "codemirror_mode": {
    "name": "ipython",
    "version": 3
   },
   "file_extension": ".py",
   "mimetype": "text/x-python",
   "name": "python",
   "nbconvert_exporter": "python",
   "pygments_lexer": "ipython3",
   "version": "3.8.17"
  },
  "orig_nbformat": 4
 },
 "nbformat": 4,
 "nbformat_minor": 2
}
