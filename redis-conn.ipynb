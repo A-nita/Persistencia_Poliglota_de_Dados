{
 "cells": [
  {
   "cell_type": "markdown",
   "metadata": {},
   "source": [
    "# Testando o Redis"
   ]
  },
  {
   "cell_type": "markdown",
   "metadata": {},
   "source": [
    "Este notebook verifica o funcionamento do Redis no projeto. Nesse notebook é feito a conexão, escrita e leitura no banco de dados Redis.\n",
    "\n",
    "Antes de executar esse notebook, é necessário ter instalado o [docker](https://www.docker.com/) e o [docker-compose](https://docs.docker.com/compose/).\n",
    "\n",
    "Com eles instalados, é necessário rodar o comando `docker-compose up` na pasta principal do projeto para colocar o servidor Redis no ar. Com isso feito, é esperado que esse notebook seja executado sem problemas.\n",
    "\n",
    "Esse notebook foi criado baseado nas seguintes referências:\n",
    "\n",
    "- [Documentação instalação Redis em Python](https://redis.io/docs/clients/python/): tutorial utilização do Redis na linguagem python\n",
    "\n",
    "- [Vídeo instalação Redis com docker e docker-compose](https://www.youtube.com/watch?app=desktop&v=qucL1F2YEKE): vídeo explicando como colocar no ar um servidor Redis usando docker e docker-compose (forma que foi utilizada)"
   ]
  },
  {
   "cell_type": "markdown",
   "metadata": {},
   "source": [
    "## Instalando bibliotecas necessárias"
   ]
  },
  {
   "cell_type": "code",
   "execution_count": 1,
   "metadata": {},
   "outputs": [
    {
     "name": "stdout",
     "output_type": "stream",
     "text": [
      "Requirement already satisfied: redis in c:\\users\\gregf\\anaconda3\\envs\\pmd\\lib\\site-packages (4.6.0)\n",
      "Requirement already satisfied: async-timeout>=4.0.2 in c:\\users\\gregf\\anaconda3\\envs\\pmd\\lib\\site-packages (from redis) (4.0.2)\n",
      "Note: you may need to restart the kernel to use updated packages.\n",
      "Requirement already satisfied: redis[hiredis] in c:\\users\\gregf\\anaconda3\\envs\\pmd\\lib\\site-packages (4.6.0)\n",
      "Requirement already satisfied: async-timeout>=4.0.2 in c:\\users\\gregf\\anaconda3\\envs\\pmd\\lib\\site-packages (from redis[hiredis]) (4.0.2)\n",
      "Requirement already satisfied: hiredis>=1.0.0 in c:\\users\\gregf\\anaconda3\\envs\\pmd\\lib\\site-packages (from redis[hiredis]) (2.2.3)\n",
      "Note: you may need to restart the kernel to use updated packages.\n"
     ]
    }
   ],
   "source": [
    "%pip install redis\n",
    "%pip install redis[hiredis]"
   ]
  },
  {
   "cell_type": "markdown",
   "metadata": {},
   "source": [
    "## Importando bibliotecas necessárias"
   ]
  },
  {
   "cell_type": "code",
   "execution_count": 2,
   "metadata": {},
   "outputs": [],
   "source": [
    "import redis"
   ]
  },
  {
   "cell_type": "markdown",
   "metadata": {},
   "source": [
    "## Conectando ao Redis"
   ]
  },
  {
   "cell_type": "code",
   "execution_count": 3,
   "metadata": {},
   "outputs": [],
   "source": [
    "r = redis.Redis(host='localhost', port=6379, decode_responses=True)"
   ]
  },
  {
   "cell_type": "markdown",
   "metadata": {},
   "source": [
    "## Configurando a persistência de dados\n",
    "\n",
    "[Documentação persistência de dados](https://redis.io/docs/management/persistence/)"
   ]
  },
  {
   "cell_type": "code",
   "execution_count": 4,
   "metadata": {},
   "outputs": [
    {
     "data": {
      "text/plain": [
       "True"
      ]
     },
     "execution_count": 4,
     "metadata": {},
     "output_type": "execute_result"
    }
   ],
   "source": [
    "r.config_set('appendonly', 'yes')"
   ]
  },
  {
   "cell_type": "markdown",
   "metadata": {},
   "source": [
    "## Fazendo operação de escrita"
   ]
  },
  {
   "cell_type": "code",
   "execution_count": 5,
   "metadata": {},
   "outputs": [
    {
     "data": {
      "text/plain": [
       "True"
      ]
     },
     "execution_count": 5,
     "metadata": {},
     "output_type": "execute_result"
    }
   ],
   "source": [
    "r.set('hello', 'world')"
   ]
  },
  {
   "cell_type": "markdown",
   "metadata": {},
   "source": [
    "## Fazendo operação de leitura"
   ]
  },
  {
   "cell_type": "code",
   "execution_count": 4,
   "metadata": {},
   "outputs": [
    {
     "data": {
      "text/plain": [
       "'world'"
      ]
     },
     "execution_count": 4,
     "metadata": {},
     "output_type": "execute_result"
    }
   ],
   "source": [
    "r.get('hello')"
   ]
  }
 ],
 "metadata": {
  "kernelspec": {
   "display_name": "PMD",
   "language": "python",
   "name": "python3"
  },
  "language_info": {
   "codemirror_mode": {
    "name": "ipython",
    "version": 3
   },
   "file_extension": ".py",
   "mimetype": "text/x-python",
   "name": "python",
   "nbconvert_exporter": "python",
   "pygments_lexer": "ipython3",
   "version": "3.8.17"
  },
  "orig_nbformat": 4
 },
 "nbformat": 4,
 "nbformat_minor": 2
}
